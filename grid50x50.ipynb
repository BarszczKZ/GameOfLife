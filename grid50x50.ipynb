{
 "cells": [
  {
   "cell_type": "code",
   "execution_count": 38,
   "id": "543fc003-c805-4fc8-b499-426784e28f72",
   "metadata": {},
   "outputs": [],
   "source": [
    "from tkinter import *\n",
    "window = Tk()\n",
    "frame = Frame(window).grid()\n",
    "files = []\n",
    "btn=[]\n",
    "for i in range(2500):\n",
    "    files.append(\"button\"+str(1))\n",
    "for i in range(len(files)):\n",
    "    btn.append(Button(frame,text=\"k\", font=(\"Arial\",3),width=2,height=2).grid(row=int((i)//50),column=int((i-((i//50))*50)),sticky=\"w\"))\n",
    "\n",
    "\n",
    "window.mainloop()"
   ]
  },
  {
   "cell_type": "code",
   "execution_count": null,
   "id": "fd9ec14b-b3eb-439b-b2d2-8fd1a57a7fbd",
   "metadata": {},
   "outputs": [],
   "source": []
  },
  {
   "cell_type": "code",
   "execution_count": null,
   "id": "15f285b2-f6bf-4895-aaeb-891bc8bb0a91",
   "metadata": {},
   "outputs": [],
   "source": []
  },
  {
   "cell_type": "code",
   "execution_count": null,
   "id": "6ccf902a-650e-4cf3-a7f4-dec7674531fa",
   "metadata": {},
   "outputs": [],
   "source": []
  },
  {
   "cell_type": "code",
   "execution_count": null,
   "id": "bf5044f2-1776-443a-8fe3-297c508d8c9f",
   "metadata": {},
   "outputs": [],
   "source": []
  }
 ],
 "metadata": {
  "kernelspec": {
   "display_name": "Python 3 (ipykernel)",
   "language": "python",
   "name": "python3"
  },
  "language_info": {
   "codemirror_mode": {
    "name": "ipython",
    "version": 3
   },
   "file_extension": ".py",
   "mimetype": "text/x-python",
   "name": "python",
   "nbconvert_exporter": "python",
   "pygments_lexer": "ipython3",
   "version": "3.12.4"
  }
 },
 "nbformat": 4,
 "nbformat_minor": 5
}
